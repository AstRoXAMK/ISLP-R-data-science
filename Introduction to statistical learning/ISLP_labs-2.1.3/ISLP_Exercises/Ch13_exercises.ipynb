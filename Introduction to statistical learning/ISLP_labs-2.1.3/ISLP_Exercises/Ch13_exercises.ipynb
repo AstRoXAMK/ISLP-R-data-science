{
 "cells": [
  {
   "cell_type": "markdown",
   "metadata": {},
   "source": [
    "# Chapter 13\n",
    "## Multiple Testing"
   ]
  }
 ],
 "metadata": {
  "language_info": {
   "name": "python"
  }
 },
 "nbformat": 4,
 "nbformat_minor": 2
}
